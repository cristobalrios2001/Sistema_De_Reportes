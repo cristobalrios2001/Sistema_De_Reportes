{
 "cells": [
  {
   "attachments": {},
   "cell_type": "markdown",
   "id": "775b8ef9",
   "metadata": {},
   "source": [
    "# Datos de reportes mineros consolidados y guardados en base de datos"
   ]
  },
  {
   "attachments": {},
   "cell_type": "markdown",
   "id": "bc5f7cb8",
   "metadata": {},
   "source": [
    "Se nos presentan los datos de reportes de producción minera en archivos csv, los cuales debemos trabajar mediante ETL para cargarlos a una base de datos"
   ]
  },
  {
   "attachments": {},
   "cell_type": "markdown",
   "id": "d14c905d",
   "metadata": {},
   "source": [
    "## Importamos las librerías"
   ]
  },
  {
   "cell_type": "code",
   "execution_count": 1,
   "id": "819fc881",
   "metadata": {},
   "outputs": [],
   "source": [
    "import pandas as pd\n",
    "from numpy import nan\n",
    "import sqlalchemy\n",
    "import psycopg2"
   ]
  },
  {
   "attachments": {},
   "cell_type": "markdown",
   "id": "a7135f92",
   "metadata": {},
   "source": [
    "## 1. Extract"
   ]
  },
  {
   "attachments": {},
   "cell_type": "markdown",
   "id": "94bbfaf9",
   "metadata": {},
   "source": [
    "Realizamos la extracción de datos desde los archivos csv.\n",
    "También deberemos analizar la composición de los datos obtenidos."
   ]
  },
  {
   "cell_type": "code",
   "execution_count": 2,
   "id": "eb900855",
   "metadata": {},
   "outputs": [],
   "source": [
    "df_datos = pd.read_csv(filepath_or_buffer=\"DatosEjemploDiciembre2.csv\", sep=\";\",encoding='latin-1')"
   ]
  },
  {
   "cell_type": "code",
   "execution_count": 3,
   "id": "52173885",
   "metadata": {},
   "outputs": [
    {
     "data": {
      "text/html": [
       "<div>\n",
       "<style scoped>\n",
       "    .dataframe tbody tr th:only-of-type {\n",
       "        vertical-align: middle;\n",
       "    }\n",
       "\n",
       "    .dataframe tbody tr th {\n",
       "        vertical-align: top;\n",
       "    }\n",
       "\n",
       "    .dataframe thead th {\n",
       "        text-align: right;\n",
       "    }\n",
       "</style>\n",
       "<table border=\"1\" class=\"dataframe\">\n",
       "  <thead>\n",
       "    <tr style=\"text-align: right;\">\n",
       "      <th></th>\n",
       "      <th>Fecha</th>\n",
       "      <th>Carguio</th>\n",
       "      <th>Cami¢n</th>\n",
       "      <th>Flota</th>\n",
       "      <th>Material</th>\n",
       "      <th>Origen</th>\n",
       "      <th>Zona</th>\n",
       "      <th>Destino</th>\n",
       "      <th>Tonelaje</th>\n",
       "      <th>Ciclos</th>\n",
       "      <th>Rajo</th>\n",
       "    </tr>\n",
       "  </thead>\n",
       "  <tbody>\n",
       "    <tr>\n",
       "      <th>0</th>\n",
       "      <td>2022/12/01</td>\n",
       "      <td>CF2</td>\n",
       "      <td>C11</td>\n",
       "      <td>CAT 797 B</td>\n",
       "      <td>Sulfuro de Media</td>\n",
       "      <td>STOCK_SME</td>\n",
       "      <td>ESPERANZA</td>\n",
       "      <td>CHANCADO-SULFURO</td>\n",
       "      <td>381,6530151</td>\n",
       "      <td>1</td>\n",
       "      <td>ESPERANZA</td>\n",
       "    </tr>\n",
       "    <tr>\n",
       "      <th>1</th>\n",
       "      <td>2022/12/01</td>\n",
       "      <td>CF2</td>\n",
       "      <td>C132</td>\n",
       "      <td>CAT 793 C</td>\n",
       "      <td>Sulfuro de Media</td>\n",
       "      <td>STOCK_SME</td>\n",
       "      <td>ESPERANZA</td>\n",
       "      <td>CHANCADO-SULFURO</td>\n",
       "      <td>226</td>\n",
       "      <td>1</td>\n",
       "      <td>ESPERANZA</td>\n",
       "    </tr>\n",
       "    <tr>\n",
       "      <th>2</th>\n",
       "      <td>2022/12/01</td>\n",
       "      <td>CF2</td>\n",
       "      <td>C160</td>\n",
       "      <td>CAT 793 F</td>\n",
       "      <td>Sulfuro de Media</td>\n",
       "      <td>STOCK_SME</td>\n",
       "      <td>ESPERANZA</td>\n",
       "      <td>CHANCADO-SULFURO</td>\n",
       "      <td>452</td>\n",
       "      <td>2</td>\n",
       "      <td>ESPERANZA</td>\n",
       "    </tr>\n",
       "    <tr>\n",
       "      <th>3</th>\n",
       "      <td>2022/12/01</td>\n",
       "      <td>CF2</td>\n",
       "      <td>C39</td>\n",
       "      <td>CAT 797 F</td>\n",
       "      <td>Sulfuro de Media</td>\n",
       "      <td>STOCK_SME</td>\n",
       "      <td>ESPERANZA</td>\n",
       "      <td>CHANCADO-SULFURO</td>\n",
       "      <td>381,6530151</td>\n",
       "      <td>1</td>\n",
       "      <td>ESPERANZA</td>\n",
       "    </tr>\n",
       "    <tr>\n",
       "      <th>4</th>\n",
       "      <td>2022/12/01</td>\n",
       "      <td>CF2</td>\n",
       "      <td>C51</td>\n",
       "      <td>KOM 930 E</td>\n",
       "      <td>Sulfuro de Media</td>\n",
       "      <td>STOCK_SME</td>\n",
       "      <td>ESPERANZA</td>\n",
       "      <td>CHANCADO-SULFURO</td>\n",
       "      <td>314,5620117</td>\n",
       "      <td>1</td>\n",
       "      <td>ESPERANZA</td>\n",
       "    </tr>\n",
       "    <tr>\n",
       "      <th>...</th>\n",
       "      <td>...</td>\n",
       "      <td>...</td>\n",
       "      <td>...</td>\n",
       "      <td>...</td>\n",
       "      <td>...</td>\n",
       "      <td>...</td>\n",
       "      <td>...</td>\n",
       "      <td>...</td>\n",
       "      <td>...</td>\n",
       "      <td>...</td>\n",
       "      <td>...</td>\n",
       "    </tr>\n",
       "    <tr>\n",
       "      <th>16631</th>\n",
       "      <td>2022/12/31</td>\n",
       "      <td>PA9</td>\n",
       "      <td>C47</td>\n",
       "      <td>CAT 797 F</td>\n",
       "      <td>Sulfuro de Alta Ley</td>\n",
       "      <td>ESP/F08/1800/803</td>\n",
       "      <td>FASE 8</td>\n",
       "      <td>STOCK_SAL_DIN</td>\n",
       "      <td>348,0710144</td>\n",
       "      <td>1</td>\n",
       "      <td>ESPERANZA</td>\n",
       "    </tr>\n",
       "    <tr>\n",
       "      <th>16632</th>\n",
       "      <td>2022/12/31</td>\n",
       "      <td>PA9</td>\n",
       "      <td>C49</td>\n",
       "      <td>KOM 930 E</td>\n",
       "      <td>Sulfuro de Alta Ley</td>\n",
       "      <td>ESP/F08/1800/803</td>\n",
       "      <td>FASE 8</td>\n",
       "      <td>STOCK_SAL_DIN</td>\n",
       "      <td>288,8269958</td>\n",
       "      <td>1</td>\n",
       "      <td>ESPERANZA</td>\n",
       "    </tr>\n",
       "    <tr>\n",
       "      <th>16633</th>\n",
       "      <td>2022/12/31</td>\n",
       "      <td>PA9</td>\n",
       "      <td>C50</td>\n",
       "      <td>KOM 930 E</td>\n",
       "      <td>Lastre Sulfurado</td>\n",
       "      <td>ESP/F08/1832/824</td>\n",
       "      <td>FASE 8</td>\n",
       "      <td>BOT_RAMPA_SUPERIOR</td>\n",
       "      <td>866,4810181</td>\n",
       "      <td>3</td>\n",
       "      <td>ESPERANZA</td>\n",
       "    </tr>\n",
       "    <tr>\n",
       "      <th>16634</th>\n",
       "      <td>2022/12/31</td>\n",
       "      <td>PA9</td>\n",
       "      <td>C55</td>\n",
       "      <td>KOM 930 E</td>\n",
       "      <td>Sulfuro de Alta Ley</td>\n",
       "      <td>ESP/F08/1800/803</td>\n",
       "      <td>FASE 8</td>\n",
       "      <td>CHANCADO-SULFURO</td>\n",
       "      <td>288,8269958</td>\n",
       "      <td>1</td>\n",
       "      <td>ESPERANZA</td>\n",
       "    </tr>\n",
       "    <tr>\n",
       "      <th>16635</th>\n",
       "      <td>2022/12/31</td>\n",
       "      <td>PA9</td>\n",
       "      <td>C60</td>\n",
       "      <td>KOM 930 E</td>\n",
       "      <td>Lastre Sulfurado</td>\n",
       "      <td>ESP/F08/1832/824</td>\n",
       "      <td>FASE 8</td>\n",
       "      <td>BOT_RAMPA_SUPERIOR</td>\n",
       "      <td>577,6539917</td>\n",
       "      <td>2</td>\n",
       "      <td>ESPERANZA</td>\n",
       "    </tr>\n",
       "  </tbody>\n",
       "</table>\n",
       "<p>16636 rows × 11 columns</p>\n",
       "</div>"
      ],
      "text/plain": [
       "            Fecha Carguio Cami¢n      Flota             Material  \\\n",
       "0      2022/12/01     CF2    C11  CAT 797 B     Sulfuro de Media   \n",
       "1      2022/12/01     CF2   C132  CAT 793 C     Sulfuro de Media   \n",
       "2      2022/12/01     CF2   C160  CAT 793 F     Sulfuro de Media   \n",
       "3      2022/12/01     CF2    C39  CAT 797 F     Sulfuro de Media   \n",
       "4      2022/12/01     CF2    C51  KOM 930 E     Sulfuro de Media   \n",
       "...           ...     ...    ...        ...                  ...   \n",
       "16631  2022/12/31     PA9    C47  CAT 797 F  Sulfuro de Alta Ley   \n",
       "16632  2022/12/31     PA9    C49  KOM 930 E  Sulfuro de Alta Ley   \n",
       "16633  2022/12/31     PA9    C50  KOM 930 E     Lastre Sulfurado   \n",
       "16634  2022/12/31     PA9    C55  KOM 930 E  Sulfuro de Alta Ley   \n",
       "16635  2022/12/31     PA9    C60  KOM 930 E     Lastre Sulfurado   \n",
       "\n",
       "                 Origen       Zona             Destino     Tonelaje  Ciclos  \\\n",
       "0             STOCK_SME  ESPERANZA    CHANCADO-SULFURO  381,6530151       1   \n",
       "1             STOCK_SME  ESPERANZA    CHANCADO-SULFURO          226       1   \n",
       "2             STOCK_SME  ESPERANZA    CHANCADO-SULFURO          452       2   \n",
       "3             STOCK_SME  ESPERANZA    CHANCADO-SULFURO  381,6530151       1   \n",
       "4             STOCK_SME  ESPERANZA    CHANCADO-SULFURO  314,5620117       1   \n",
       "...                 ...        ...                 ...          ...     ...   \n",
       "16631  ESP/F08/1800/803     FASE 8       STOCK_SAL_DIN  348,0710144       1   \n",
       "16632  ESP/F08/1800/803     FASE 8       STOCK_SAL_DIN  288,8269958       1   \n",
       "16633  ESP/F08/1832/824     FASE 8  BOT_RAMPA_SUPERIOR  866,4810181       3   \n",
       "16634  ESP/F08/1800/803     FASE 8    CHANCADO-SULFURO  288,8269958       1   \n",
       "16635  ESP/F08/1832/824     FASE 8  BOT_RAMPA_SUPERIOR  577,6539917       2   \n",
       "\n",
       "            Rajo  \n",
       "0      ESPERANZA  \n",
       "1      ESPERANZA  \n",
       "2      ESPERANZA  \n",
       "3      ESPERANZA  \n",
       "4      ESPERANZA  \n",
       "...          ...  \n",
       "16631  ESPERANZA  \n",
       "16632  ESPERANZA  \n",
       "16633  ESPERANZA  \n",
       "16634  ESPERANZA  \n",
       "16635  ESPERANZA  \n",
       "\n",
       "[16636 rows x 11 columns]"
      ]
     },
     "execution_count": 3,
     "metadata": {},
     "output_type": "execute_result"
    }
   ],
   "source": [
    "df_datos"
   ]
  },
  {
   "attachments": {},
   "cell_type": "markdown",
   "id": "e4af94c1",
   "metadata": {},
   "source": [
    "## 2. Transform"
   ]
  },
  {
   "attachments": {},
   "cell_type": "markdown",
   "id": "52c1243c",
   "metadata": {},
   "source": [
    "Separamos los datos por columnnas"
   ]
  },
  {
   "cell_type": "code",
   "execution_count": 4,
   "id": "337d84fa",
   "metadata": {},
   "outputs": [],
   "source": [
    "colsDatos = ['fecha', 'carguio', 'camion', 'flota', 'material', 'origen', 'zona', 'destino', 'tonelaje', 'ciclos', 'rajo']\n",
    "df_datos.columns = colsDatos"
   ]
  },
  {
   "attachments": {},
   "cell_type": "markdown",
   "id": "2bdc7732",
   "metadata": {},
   "source": [
    "Obtenemos los tipos de datos para el dataframe"
   ]
  },
  {
   "cell_type": "code",
   "execution_count": 5,
   "id": "834522e5",
   "metadata": {},
   "outputs": [
    {
     "data": {
      "text/plain": [
       "fecha       object\n",
       "carguio     object\n",
       "camion      object\n",
       "flota       object\n",
       "material    object\n",
       "origen      object\n",
       "zona        object\n",
       "destino     object\n",
       "tonelaje    object\n",
       "ciclos       int64\n",
       "rajo        object\n",
       "dtype: object"
      ]
     },
     "execution_count": 5,
     "metadata": {},
     "output_type": "execute_result"
    }
   ],
   "source": [
    "df_datos.dtypes"
   ]
  },
  {
   "attachments": {},
   "cell_type": "markdown",
   "id": "c0c061a1",
   "metadata": {},
   "source": [
    "Buscamos la cantidad de datos en el dataframe"
   ]
  },
  {
   "cell_type": "code",
   "execution_count": 6,
   "id": "b594c474",
   "metadata": {},
   "outputs": [
    {
     "name": "stdout",
     "output_type": "stream",
     "text": [
      "<class 'pandas.core.frame.DataFrame'>\n",
      "RangeIndex: 16636 entries, 0 to 16635\n",
      "Data columns (total 11 columns):\n",
      " #   Column    Non-Null Count  Dtype \n",
      "---  ------    --------------  ----- \n",
      " 0   fecha     16636 non-null  object\n",
      " 1   carguio   16636 non-null  object\n",
      " 2   camion    16636 non-null  object\n",
      " 3   flota     16636 non-null  object\n",
      " 4   material  16636 non-null  object\n",
      " 5   origen    16636 non-null  object\n",
      " 6   zona      16636 non-null  object\n",
      " 7   destino   16636 non-null  object\n",
      " 8   tonelaje  16636 non-null  object\n",
      " 9   ciclos    16636 non-null  int64 \n",
      " 10  rajo      16636 non-null  object\n",
      "dtypes: int64(1), object(10)\n",
      "memory usage: 1.4+ MB\n"
     ]
    }
   ],
   "source": [
    "df_datos.info()"
   ]
  },
  {
   "attachments": {},
   "cell_type": "markdown",
   "id": "00de3f3c",
   "metadata": {},
   "source": [
    "Sumamos los datos nulos"
   ]
  },
  {
   "cell_type": "code",
   "execution_count": 7,
   "id": "9b1da515",
   "metadata": {},
   "outputs": [
    {
     "data": {
      "text/plain": [
       "fecha       0\n",
       "carguio     0\n",
       "camion      0\n",
       "flota       0\n",
       "material    0\n",
       "origen      0\n",
       "zona        0\n",
       "destino     0\n",
       "tonelaje    0\n",
       "ciclos      0\n",
       "rajo        0\n",
       "dtype: int64"
      ]
     },
     "execution_count": 7,
     "metadata": {},
     "output_type": "execute_result"
    }
   ],
   "source": [
    "df_datos.isnull().sum()"
   ]
  },
  {
   "attachments": {},
   "cell_type": "markdown",
   "id": "db5c3cd5",
   "metadata": {},
   "source": [
    "Al no haber datos nulos en el dataframe se continua, de haber nulos se procederá a eliminarlos"
   ]
  },
  {
   "attachments": {},
   "cell_type": "markdown",
   "id": "dfa35803",
   "metadata": {},
   "source": [
    "### Formateo de datos"
   ]
  },
  {
   "attachments": {},
   "cell_type": "markdown",
   "id": "7633bc18",
   "metadata": {},
   "source": [
    "La mezcla de mayúsculas y minúsculas (camel case) suele dar problemas, por lo que decidimos pasar los valores de la columna material a minúscula"
   ]
  },
  {
   "cell_type": "code",
   "execution_count": 9,
   "id": "adce4eed",
   "metadata": {},
   "outputs": [
    {
     "data": {
      "text/html": [
       "<div>\n",
       "<style scoped>\n",
       "    .dataframe tbody tr th:only-of-type {\n",
       "        vertical-align: middle;\n",
       "    }\n",
       "\n",
       "    .dataframe tbody tr th {\n",
       "        vertical-align: top;\n",
       "    }\n",
       "\n",
       "    .dataframe thead th {\n",
       "        text-align: right;\n",
       "    }\n",
       "</style>\n",
       "<table border=\"1\" class=\"dataframe\">\n",
       "  <thead>\n",
       "    <tr style=\"text-align: right;\">\n",
       "      <th></th>\n",
       "      <th>fecha</th>\n",
       "      <th>carguio</th>\n",
       "      <th>camion</th>\n",
       "      <th>flota</th>\n",
       "      <th>material</th>\n",
       "      <th>origen</th>\n",
       "      <th>zona</th>\n",
       "      <th>destino</th>\n",
       "      <th>tonelaje</th>\n",
       "      <th>ciclos</th>\n",
       "      <th>rajo</th>\n",
       "    </tr>\n",
       "  </thead>\n",
       "  <tbody>\n",
       "    <tr>\n",
       "      <th>0</th>\n",
       "      <td>2022/12/01</td>\n",
       "      <td>CF2</td>\n",
       "      <td>C11</td>\n",
       "      <td>CAT 797 B</td>\n",
       "      <td>sulfuro de media</td>\n",
       "      <td>STOCK_SME</td>\n",
       "      <td>ESPERANZA</td>\n",
       "      <td>CHANCADO-SULFURO</td>\n",
       "      <td>381,6530151</td>\n",
       "      <td>1</td>\n",
       "      <td>ESPERANZA</td>\n",
       "    </tr>\n",
       "    <tr>\n",
       "      <th>1</th>\n",
       "      <td>2022/12/01</td>\n",
       "      <td>CF2</td>\n",
       "      <td>C132</td>\n",
       "      <td>CAT 793 C</td>\n",
       "      <td>sulfuro de media</td>\n",
       "      <td>STOCK_SME</td>\n",
       "      <td>ESPERANZA</td>\n",
       "      <td>CHANCADO-SULFURO</td>\n",
       "      <td>226</td>\n",
       "      <td>1</td>\n",
       "      <td>ESPERANZA</td>\n",
       "    </tr>\n",
       "    <tr>\n",
       "      <th>2</th>\n",
       "      <td>2022/12/01</td>\n",
       "      <td>CF2</td>\n",
       "      <td>C160</td>\n",
       "      <td>CAT 793 F</td>\n",
       "      <td>sulfuro de media</td>\n",
       "      <td>STOCK_SME</td>\n",
       "      <td>ESPERANZA</td>\n",
       "      <td>CHANCADO-SULFURO</td>\n",
       "      <td>452</td>\n",
       "      <td>2</td>\n",
       "      <td>ESPERANZA</td>\n",
       "    </tr>\n",
       "    <tr>\n",
       "      <th>3</th>\n",
       "      <td>2022/12/01</td>\n",
       "      <td>CF2</td>\n",
       "      <td>C39</td>\n",
       "      <td>CAT 797 F</td>\n",
       "      <td>sulfuro de media</td>\n",
       "      <td>STOCK_SME</td>\n",
       "      <td>ESPERANZA</td>\n",
       "      <td>CHANCADO-SULFURO</td>\n",
       "      <td>381,6530151</td>\n",
       "      <td>1</td>\n",
       "      <td>ESPERANZA</td>\n",
       "    </tr>\n",
       "    <tr>\n",
       "      <th>4</th>\n",
       "      <td>2022/12/01</td>\n",
       "      <td>CF2</td>\n",
       "      <td>C51</td>\n",
       "      <td>KOM 930 E</td>\n",
       "      <td>sulfuro de media</td>\n",
       "      <td>STOCK_SME</td>\n",
       "      <td>ESPERANZA</td>\n",
       "      <td>CHANCADO-SULFURO</td>\n",
       "      <td>314,5620117</td>\n",
       "      <td>1</td>\n",
       "      <td>ESPERANZA</td>\n",
       "    </tr>\n",
       "    <tr>\n",
       "      <th>...</th>\n",
       "      <td>...</td>\n",
       "      <td>...</td>\n",
       "      <td>...</td>\n",
       "      <td>...</td>\n",
       "      <td>...</td>\n",
       "      <td>...</td>\n",
       "      <td>...</td>\n",
       "      <td>...</td>\n",
       "      <td>...</td>\n",
       "      <td>...</td>\n",
       "      <td>...</td>\n",
       "    </tr>\n",
       "    <tr>\n",
       "      <th>16631</th>\n",
       "      <td>2022/12/31</td>\n",
       "      <td>PA9</td>\n",
       "      <td>C47</td>\n",
       "      <td>CAT 797 F</td>\n",
       "      <td>sulfuro de alta ley</td>\n",
       "      <td>ESP/F08/1800/803</td>\n",
       "      <td>FASE 8</td>\n",
       "      <td>STOCK_SAL_DIN</td>\n",
       "      <td>348,0710144</td>\n",
       "      <td>1</td>\n",
       "      <td>ESPERANZA</td>\n",
       "    </tr>\n",
       "    <tr>\n",
       "      <th>16632</th>\n",
       "      <td>2022/12/31</td>\n",
       "      <td>PA9</td>\n",
       "      <td>C49</td>\n",
       "      <td>KOM 930 E</td>\n",
       "      <td>sulfuro de alta ley</td>\n",
       "      <td>ESP/F08/1800/803</td>\n",
       "      <td>FASE 8</td>\n",
       "      <td>STOCK_SAL_DIN</td>\n",
       "      <td>288,8269958</td>\n",
       "      <td>1</td>\n",
       "      <td>ESPERANZA</td>\n",
       "    </tr>\n",
       "    <tr>\n",
       "      <th>16633</th>\n",
       "      <td>2022/12/31</td>\n",
       "      <td>PA9</td>\n",
       "      <td>C50</td>\n",
       "      <td>KOM 930 E</td>\n",
       "      <td>lastre sulfurado</td>\n",
       "      <td>ESP/F08/1832/824</td>\n",
       "      <td>FASE 8</td>\n",
       "      <td>BOT_RAMPA_SUPERIOR</td>\n",
       "      <td>866,4810181</td>\n",
       "      <td>3</td>\n",
       "      <td>ESPERANZA</td>\n",
       "    </tr>\n",
       "    <tr>\n",
       "      <th>16634</th>\n",
       "      <td>2022/12/31</td>\n",
       "      <td>PA9</td>\n",
       "      <td>C55</td>\n",
       "      <td>KOM 930 E</td>\n",
       "      <td>sulfuro de alta ley</td>\n",
       "      <td>ESP/F08/1800/803</td>\n",
       "      <td>FASE 8</td>\n",
       "      <td>CHANCADO-SULFURO</td>\n",
       "      <td>288,8269958</td>\n",
       "      <td>1</td>\n",
       "      <td>ESPERANZA</td>\n",
       "    </tr>\n",
       "    <tr>\n",
       "      <th>16635</th>\n",
       "      <td>2022/12/31</td>\n",
       "      <td>PA9</td>\n",
       "      <td>C60</td>\n",
       "      <td>KOM 930 E</td>\n",
       "      <td>lastre sulfurado</td>\n",
       "      <td>ESP/F08/1832/824</td>\n",
       "      <td>FASE 8</td>\n",
       "      <td>BOT_RAMPA_SUPERIOR</td>\n",
       "      <td>577,6539917</td>\n",
       "      <td>2</td>\n",
       "      <td>ESPERANZA</td>\n",
       "    </tr>\n",
       "  </tbody>\n",
       "</table>\n",
       "<p>16636 rows × 11 columns</p>\n",
       "</div>"
      ],
      "text/plain": [
       "            fecha carguio camion      flota             material  \\\n",
       "0      2022/12/01     CF2    C11  CAT 797 B     sulfuro de media   \n",
       "1      2022/12/01     CF2   C132  CAT 793 C     sulfuro de media   \n",
       "2      2022/12/01     CF2   C160  CAT 793 F     sulfuro de media   \n",
       "3      2022/12/01     CF2    C39  CAT 797 F     sulfuro de media   \n",
       "4      2022/12/01     CF2    C51  KOM 930 E     sulfuro de media   \n",
       "...           ...     ...    ...        ...                  ...   \n",
       "16631  2022/12/31     PA9    C47  CAT 797 F  sulfuro de alta ley   \n",
       "16632  2022/12/31     PA9    C49  KOM 930 E  sulfuro de alta ley   \n",
       "16633  2022/12/31     PA9    C50  KOM 930 E     lastre sulfurado   \n",
       "16634  2022/12/31     PA9    C55  KOM 930 E  sulfuro de alta ley   \n",
       "16635  2022/12/31     PA9    C60  KOM 930 E     lastre sulfurado   \n",
       "\n",
       "                 origen       zona             destino     tonelaje  ciclos  \\\n",
       "0             STOCK_SME  ESPERANZA    CHANCADO-SULFURO  381,6530151       1   \n",
       "1             STOCK_SME  ESPERANZA    CHANCADO-SULFURO          226       1   \n",
       "2             STOCK_SME  ESPERANZA    CHANCADO-SULFURO          452       2   \n",
       "3             STOCK_SME  ESPERANZA    CHANCADO-SULFURO  381,6530151       1   \n",
       "4             STOCK_SME  ESPERANZA    CHANCADO-SULFURO  314,5620117       1   \n",
       "...                 ...        ...                 ...          ...     ...   \n",
       "16631  ESP/F08/1800/803     FASE 8       STOCK_SAL_DIN  348,0710144       1   \n",
       "16632  ESP/F08/1800/803     FASE 8       STOCK_SAL_DIN  288,8269958       1   \n",
       "16633  ESP/F08/1832/824     FASE 8  BOT_RAMPA_SUPERIOR  866,4810181       3   \n",
       "16634  ESP/F08/1800/803     FASE 8    CHANCADO-SULFURO  288,8269958       1   \n",
       "16635  ESP/F08/1832/824     FASE 8  BOT_RAMPA_SUPERIOR  577,6539917       2   \n",
       "\n",
       "            rajo  \n",
       "0      ESPERANZA  \n",
       "1      ESPERANZA  \n",
       "2      ESPERANZA  \n",
       "3      ESPERANZA  \n",
       "4      ESPERANZA  \n",
       "...          ...  \n",
       "16631  ESPERANZA  \n",
       "16632  ESPERANZA  \n",
       "16633  ESPERANZA  \n",
       "16634  ESPERANZA  \n",
       "16635  ESPERANZA  \n",
       "\n",
       "[16636 rows x 11 columns]"
      ]
     },
     "execution_count": 9,
     "metadata": {},
     "output_type": "execute_result"
    }
   ],
   "source": [
    "df_datos[\"material\"] = df_datos[\"material\"].str.lower()\n",
    "df_datos"
   ]
  },
  {
   "attachments": {},
   "cell_type": "markdown",
   "id": "82f534b1",
   "metadata": {},
   "source": [
    "Notamos que podemos cambiar el tipo de tonelaje desde objtect a float, para ello primero debemos reemplazar las \"comas\" por \"puntos\""
   ]
  },
  {
   "cell_type": "code",
   "execution_count": 11,
   "id": "18edb4fd",
   "metadata": {},
   "outputs": [
    {
     "data": {
      "text/plain": [
       "fecha        object\n",
       "carguio      object\n",
       "camion       object\n",
       "flota        object\n",
       "material     object\n",
       "origen       object\n",
       "zona         object\n",
       "destino      object\n",
       "tonelaje    float64\n",
       "ciclos        int64\n",
       "rajo         object\n",
       "dtype: object"
      ]
     },
     "execution_count": 11,
     "metadata": {},
     "output_type": "execute_result"
    }
   ],
   "source": [
    "df_datos['tonelaje'] = df_datos['tonelaje'].str.replace(',', '.') #separamos correctamente los datos\n",
    "df_datos = df_datos.astype({'tonelaje': 'float64'})\n",
    "df_datos.dtypes"
   ]
  },
  {
   "attachments": {},
   "cell_type": "markdown",
   "id": "9aaf247a",
   "metadata": {},
   "source": [
    "Notamos que también podemos cambiar el formato a las fechas"
   ]
  },
  {
   "cell_type": "code",
   "execution_count": 13,
   "id": "f2bf8712",
   "metadata": {},
   "outputs": [
    {
     "data": {
      "text/plain": [
       "fecha       datetime64[ns]\n",
       "carguio             object\n",
       "camion              object\n",
       "flota               object\n",
       "material            object\n",
       "origen              object\n",
       "zona                object\n",
       "destino             object\n",
       "tonelaje           float64\n",
       "ciclos               int64\n",
       "rajo                object\n",
       "dtype: object"
      ]
     },
     "execution_count": 13,
     "metadata": {},
     "output_type": "execute_result"
    }
   ],
   "source": [
    "df_datos['fecha'] = df_datos['fecha'].str.replace('/', '-') #separamos correctamente los datos\n",
    "df_datos['fecha'] = pd.to_datetime(df_datos['fecha'])\n",
    "df_datos.dtypes"
   ]
  },
  {
   "attachments": {},
   "cell_type": "markdown",
   "id": "75fd8548",
   "metadata": {},
   "source": [
    "## 3. Load"
   ]
  },
  {
   "attachments": {},
   "cell_type": "markdown",
   "id": "a1be2d1e",
   "metadata": {},
   "source": [
    "A continuación cargamos nuestros dataframes a una base de datos en PostgreSQL"
   ]
  }
 ],
 "metadata": {
  "kernelspec": {
   "display_name": "Python 3 (ipykernel)",
   "language": "python",
   "name": "python3"
  },
  "language_info": {
   "codemirror_mode": {
    "name": "ipython",
    "version": 3
   },
   "file_extension": ".py",
   "mimetype": "text/x-python",
   "name": "python",
   "nbconvert_exporter": "python",
   "pygments_lexer": "ipython3",
   "version": "3.9.12"
  }
 },
 "nbformat": 4,
 "nbformat_minor": 5
}
